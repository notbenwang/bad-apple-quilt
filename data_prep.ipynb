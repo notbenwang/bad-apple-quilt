{
 "cells": [
  {
   "cell_type": "code",
   "execution_count": 1,
   "id": "545e4eb4",
   "metadata": {},
   "outputs": [
    {
     "name": "stdout",
     "output_type": "stream",
     "text": [
      "fff3f1f1f9d3c1e1 \n",
      " fff3f1f1f1d3c3e1\n"
     ]
    }
   ],
   "source": [
    "from PIL import Image\n",
    "import imagehash\n",
    "from image_similarity import check_none_hash_color\n",
    "hash = imagehash.average_hash(Image.open('training/output_0242.jpg'))\n",
    "other_hash = imagehash.average_hash(Image.open('training/output_0250.jpg'))\n",
    "print(hash,'\\n',other_hash)"
   ]
  },
  {
   "cell_type": "markdown",
   "id": "5a82bdd4",
   "metadata": {},
   "source": [
    "## What hashing?\n",
    "I used average hashing because I found it gave the best results. \n",
    "\n",
    "## Data Preparation\n",
    "Converting each frame in badapple into an average_hash. Also map which hashes are to which frames."
   ]
  },
  {
   "cell_type": "code",
   "execution_count": null,
   "id": "0539c1cb",
   "metadata": {},
   "outputs": [],
   "source": [
    "import math\n",
    "\n",
    "TRAINING_DATA_NUM = 6572 # 6572 training images\n",
    "TRAINING_DATA_PREFIX = 'training/output_'\n",
    "\n",
    "hash_indices = {\"0000000000000000\" : [], \"ffffffffffffffff\" : []}\n",
    "\n",
    "for i in range(1, TRAINING_DATA_NUM+1):\n",
    "    file_number = '0' * (3 - int(math.log10(i))) + str(i)\n",
    "    path = f\"{TRAINING_DATA_PREFIX}{file_number}.jpg\"\n",
    "\n",
    "    image_file = Image.open(path)\n",
    "    gray = image_file.convert('L')\n",
    "    threshold = image_file.point( lambda p: 255 if p > 127 else 0 )\n",
    "    mono = image_file.convert('1') \n",
    "    hash = str(imagehash.dhash(mono))\n",
    "    if hash == \"0000000000000000\": # add color cluster, but only for full black/white. average hash can't differentiate colors.\n",
    "        if check_none_hash_color(threshold): # if black\n",
    "            hash_indices[\"ffffffffffffffff\"].append(i)\n",
    "        else:\n",
    "            hash_indices[\"0000000000000000\"].append(i)\n",
    "    elif hash not in hash_indices:\n",
    "        hash_indices[hash] = [i]\n",
    "    else:\n",
    "        hash_indices[hash].append(i)"
   ]
  },
  {
   "cell_type": "code",
   "execution_count": null,
   "id": "2dc79e98",
   "metadata": {},
   "outputs": [],
   "source": [
    "# Convert it to json\n",
    "import json\n",
    "\n",
    "json_dict = {\"Hash Information\": hash_indices}\n",
    "with open(\"hash_indices.json\", 'w') as f:\n",
    "    json.dump(json_dict, f, indent=4, sort_keys=True)"
   ]
  }
 ],
 "metadata": {
  "kernelspec": {
   "display_name": ".venv",
   "language": "python",
   "name": "python3"
  },
  "language_info": {
   "codemirror_mode": {
    "name": "ipython",
    "version": 3
   },
   "file_extension": ".py",
   "mimetype": "text/x-python",
   "name": "python",
   "nbconvert_exporter": "python",
   "pygments_lexer": "ipython3",
   "version": "3.12.1"
  }
 },
 "nbformat": 4,
 "nbformat_minor": 5
}
